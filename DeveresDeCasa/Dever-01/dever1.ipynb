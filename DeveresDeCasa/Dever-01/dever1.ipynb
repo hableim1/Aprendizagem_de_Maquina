{
 "cells": [
  {
   "cell_type": "code",
   "execution_count": 4,
   "metadata": {},
   "outputs": [
    {
     "name": "stdout",
     "output_type": "stream",
     "text": [
      "Arquivo CSV criado com sucesso!\n",
      "Registro 5: Nome: Ángel Romero; Data de nascimento: 07/04/1992; Data de cadastro: 02/18/2025 às 11:00 horas.\n"
     ]
    }
   ],
   "source": [
    "import csv\n",
    "import locale\n",
    "from datetime import datetime\n",
    "import pytz\n",
    "\n",
    "# Configurar locale (evitar erro se não for suportado)\n",
    "try:\n",
    "    locale.setlocale(locale.LC_ALL, 'pt_BR.UTF-8')\n",
    "except locale.Error:\n",
    "    print(\"Locale não suportado. Prosseguindo sem alterar...\")\n",
    "\n",
    "# Define o fuso horário para o Brasil (Brasília)\n",
    "con_fuso_horario = pytz.timezone(\"America/Sao_Paulo\")\n",
    "\n",
    "# Função para formatar datas para o padrão brasileiro\n",
    "def formatar_data(data):\n",
    "    if \"/\" in data:  # Verifica se já está no formato correto\n",
    "        mes, dia, ano = data.split(\"/\")\n",
    "        return f\"{dia}/{mes}/{ano}\"\n",
    "    return data  # Se já estiver certo, retorna como está\n",
    "\n",
    "# Criar arquivo CSV\n",
    "dados = [\n",
    "    [\"Nome\", \"Data de Nascimento\", \"Dia do Cadastro\", \"Hora do Cadastro\"],\n",
    "    [\"Pablo Coelho\", \"01/26/1974\", \"17/02/2025\", \"20:30\"],\n",
    "    [\"Mariana Ferreira\", \"26/04/1995\", \"17/02/2025\", \"20:31\"],\n",
    "    [\"Yuri Alberto\", \"18/03/2001\", \"18/02/2025\", \"07:35\"],\n",
    "    [\"Rodrigo Garro\", \"04/01/1998\", \"18/02/2025\", \"07:44\"],\n",
    "    [\"Ángel Romero\", \"04/07/1992\", \"18/02/2025\", \"11:00\"]\n",
    "]\n",
    "\n",
    "# Escrever no arquivo CSV\n",
    "with open(\"dados.csv\", \"w\", newline=\"\", encoding=\"utf-8\") as arquivo:\n",
    "    escritor = csv.writer(arquivo)\n",
    "    escritor.writerows(dados)\n",
    "\n",
    "print(\"Arquivo CSV criado com sucesso!\")\n",
    "\n",
    "# Ler o CSV e imprimir o registro escolhido pelo usuário\n",
    "with open(\"dados.csv\", \"r\", encoding=\"utf-8\") as arquivo:\n",
    "    leitor = csv.reader(arquivo)\n",
    "    lista_dados = list(leitor)  # Converter para lista\n",
    "\n",
    "# Pedir ao usuário qual registro deseja ver\n",
    "indice = int(input(\"Digite o número do registro (1 a 5): \"))\n",
    "\n",
    "# Verificar se está dentro do limite\n",
    "if 1 <= indice <= 5:\n",
    "    nome, data_nasc, data_cadastro, hora = lista_dados[indice]\n",
    "    print(f\"Registro {indice}: Nome: {nome}; Data de nascimento: {formatar_data(data_nasc)}; \"\n",
    "          f\"Data de cadastro: {formatar_data(data_cadastro)} às {hora} horas.\")\n",
    "else:\n",
    "    print(\"Número inválido! Escolha entre 1 e 5.\")\n"
   ]
  }
 ],
 "metadata": {
  "kernelspec": {
   "display_name": "base",
   "language": "python",
   "name": "python3"
  },
  "language_info": {
   "codemirror_mode": {
    "name": "ipython",
    "version": 3
   },
   "file_extension": ".py",
   "mimetype": "text/x-python",
   "name": "python",
   "nbconvert_exporter": "python",
   "pygments_lexer": "ipython3",
   "version": "3.12.7"
  }
 },
 "nbformat": 4,
 "nbformat_minor": 2
}
